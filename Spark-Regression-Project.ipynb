{
 "cells": [
  {
   "cell_type": "markdown",
   "id": "07f5b5f5-2e31-47a6-bc72-d3a2d6e02d8d",
   "metadata": {},
   "source": [
    "# Spark Regression Project"
   ]
  },
  {
   "cell_type": "markdown",
   "id": "96bbb196-6295-4844-baca-296b3a0b93f0",
   "metadata": {},
   "source": [
    "## Import Spark SQL and Pandas Libraries:\n",
    "Let's import the necessary libraries to create a Spark object."
   ]
  },
  {
   "cell_type": "code",
   "execution_count": 1,
   "id": "9ea8cc64-8310-43ea-9043-2edc84f9b22c",
   "metadata": {},
   "outputs": [],
   "source": [
    "import pyspark\n",
    "from pyspark.sql import SparkSession\n",
    "import pandas as pd"
   ]
  },
  {
   "cell_type": "markdown",
   "id": "898a3212-4acb-4e9b-9157-39cf1cada5cb",
   "metadata": {},
   "source": [
    "## Create Spark Object:\n",
    "Let's create our Spark object using the builder attribute within the SparkSession class.\n",
    "\n",
    "We can use this object to view Version, Master, and AppName information."
   ]
  },
  {
   "cell_type": "code",
   "execution_count": 2,
   "id": "4595ead6-e62b-4118-ae7a-56a3a74bafe0",
   "metadata": {},
   "outputs": [
    {
     "data": {
      "text/html": [
       "\n",
       "            <div>\n",
       "                <p><b>SparkSession - in-memory</b></p>\n",
       "                \n",
       "        <div>\n",
       "            <p><b>SparkContext</b></p>\n",
       "\n",
       "            <p><a href=\"http://Legacies:4040\">Spark UI</a></p>\n",
       "\n",
       "            <dl>\n",
       "              <dt>Version</dt>\n",
       "                <dd><code>v3.5.0</code></dd>\n",
       "              <dt>Master</dt>\n",
       "                <dd><code>local[*]</code></dd>\n",
       "              <dt>AppName</dt>\n",
       "                <dd><code>Dataframe</code></dd>\n",
       "            </dl>\n",
       "        </div>\n",
       "        \n",
       "            </div>\n",
       "        "
      ],
      "text/plain": [
       "<pyspark.sql.session.SparkSession at 0x2bd802fed10>"
      ]
     },
     "execution_count": 2,
     "metadata": {},
     "output_type": "execute_result"
    }
   ],
   "source": [
    "spark = SparkSession.builder.appName('Dataframe').getOrCreate()\n",
    "\n",
    "spark"
   ]
  },
  {
   "cell_type": "markdown",
   "id": "272897d6-cb9c-48ef-b1b6-d0c4ff75ecff",
   "metadata": {},
   "source": [
    "### **Let's read and display our 'California Housing Prices' dataset from the local directory**\n",
    "\n",
    "**Note:**\n",
    "\n",
    "If we don't specify inferSchema=True, the CSV file will read all its information as strings."
   ]
  },
  {
   "cell_type": "code",
   "execution_count": 3,
   "id": "4e3bd28b-d118-472d-a78b-65c2c69c2229",
   "metadata": {},
   "outputs": [
    {
     "name": "stdout",
     "output_type": "stream",
     "text": [
      "+---------+--------+------------------+-----------+--------------+----------+----------+-------------+------------------+---------------+\n",
      "|longitude|latitude|housing_median_age|total_rooms|total_bedrooms|population|households|median_income|median_house_value|ocean_proximity|\n",
      "+---------+--------+------------------+-----------+--------------+----------+----------+-------------+------------------+---------------+\n",
      "|  -122.23|   37.88|              41.0|      880.0|         129.0|     322.0|     126.0|       8.3252|          452600.0|       NEAR BAY|\n",
      "|  -122.22|   37.86|              21.0|     7099.0|        1106.0|    2401.0|    1138.0|       8.3014|          358500.0|       NEAR BAY|\n",
      "|  -122.24|   37.85|              52.0|     1467.0|         190.0|     496.0|     177.0|       7.2574|          352100.0|       NEAR BAY|\n",
      "|  -122.25|   37.85|              52.0|     1274.0|         235.0|     558.0|     219.0|       5.6431|          341300.0|       NEAR BAY|\n",
      "|  -122.25|   37.85|              52.0|     1627.0|         280.0|     565.0|     259.0|       3.8462|          342200.0|       NEAR BAY|\n",
      "|  -122.25|   37.85|              52.0|      919.0|         213.0|     413.0|     193.0|       4.0368|          269700.0|       NEAR BAY|\n",
      "|  -122.25|   37.84|              52.0|     2535.0|         489.0|    1094.0|     514.0|       3.6591|          299200.0|       NEAR BAY|\n",
      "|  -122.25|   37.84|              52.0|     3104.0|         687.0|    1157.0|     647.0|         3.12|          241400.0|       NEAR BAY|\n",
      "|  -122.26|   37.84|              42.0|     2555.0|         665.0|    1206.0|     595.0|       2.0804|          226700.0|       NEAR BAY|\n",
      "|  -122.25|   37.84|              52.0|     3549.0|         707.0|    1551.0|     714.0|       3.6912|          261100.0|       NEAR BAY|\n",
      "|  -122.26|   37.85|              52.0|     2202.0|         434.0|     910.0|     402.0|       3.2031|          281500.0|       NEAR BAY|\n",
      "|  -122.26|   37.85|              52.0|     3503.0|         752.0|    1504.0|     734.0|       3.2705|          241800.0|       NEAR BAY|\n",
      "|  -122.26|   37.85|              52.0|     2491.0|         474.0|    1098.0|     468.0|        3.075|          213500.0|       NEAR BAY|\n",
      "|  -122.26|   37.84|              52.0|      696.0|         191.0|     345.0|     174.0|       2.6736|          191300.0|       NEAR BAY|\n",
      "|  -122.26|   37.85|              52.0|     2643.0|         626.0|    1212.0|     620.0|       1.9167|          159200.0|       NEAR BAY|\n",
      "|  -122.26|   37.85|              50.0|     1120.0|         283.0|     697.0|     264.0|        2.125|          140000.0|       NEAR BAY|\n",
      "|  -122.27|   37.85|              52.0|     1966.0|         347.0|     793.0|     331.0|        2.775|          152500.0|       NEAR BAY|\n",
      "|  -122.27|   37.85|              52.0|     1228.0|         293.0|     648.0|     303.0|       2.1202|          155500.0|       NEAR BAY|\n",
      "|  -122.26|   37.84|              50.0|     2239.0|         455.0|     990.0|     419.0|       1.9911|          158700.0|       NEAR BAY|\n",
      "|  -122.27|   37.84|              52.0|     1503.0|         298.0|     690.0|     275.0|       2.6033|          162900.0|       NEAR BAY|\n",
      "+---------+--------+------------------+-----------+--------------+----------+----------+-------------+------------------+---------------+\n",
      "only showing top 20 rows\n",
      "\n"
     ]
    }
   ],
   "source": [
    "df = spark.read.option(\"header\", \"true\").csv(\"housing.csv\", inferSchema=True)\n",
    "\n",
    "df.show()"
   ]
  },
  {
   "cell_type": "markdown",
   "id": "8887d3cb-29aa-46f4-8350-654199c43997",
   "metadata": {},
   "source": [
    "We can use the printschema() method to display the schema of our dataframe and learn the types of our columns."
   ]
  },
  {
   "cell_type": "code",
   "execution_count": 4,
   "id": "5d196d56-4dd2-46c8-8d67-52b69112ab99",
   "metadata": {
    "scrolled": true
   },
   "outputs": [
    {
     "name": "stdout",
     "output_type": "stream",
     "text": [
      "root\n",
      " |-- longitude: double (nullable = true)\n",
      " |-- latitude: double (nullable = true)\n",
      " |-- housing_median_age: double (nullable = true)\n",
      " |-- total_rooms: double (nullable = true)\n",
      " |-- total_bedrooms: double (nullable = true)\n",
      " |-- population: double (nullable = true)\n",
      " |-- households: double (nullable = true)\n",
      " |-- median_income: double (nullable = true)\n",
      " |-- median_house_value: double (nullable = true)\n",
      " |-- ocean_proximity: string (nullable = true)\n",
      "\n"
     ]
    }
   ],
   "source": [
    "df.printSchema()"
   ]
  },
  {
   "cell_type": "markdown",
   "id": "dc4d3996-c131-46f6-8442-c6e06b6ac685",
   "metadata": {},
   "source": [
    "## Select Numerical and Categorical Columns:\n",
    "The fact that categorical columns are in string format poses a significant issue for training the model. Therefore, let's write the necessary code to identify numerical columns and categorical columns, enabling us to perform the correct operations on the respective columns."
   ]
  },
  {
   "cell_type": "code",
   "execution_count": 5,
   "id": "ba644da2-464a-4dfd-a331-a5ae51a02721",
   "metadata": {},
   "outputs": [],
   "source": [
    "all_cols = df.columns\n",
    "\n",
    "num_cols = [c for c, t in df.dtypes if t.startswith(\"double\")]\n",
    "cat_cols = [c for c, t in df.dtypes if t.startswith(\"string\")]"
   ]
  },
  {
   "cell_type": "code",
   "execution_count": 6,
   "id": "72ad1d61-aa44-4afb-b4c8-0d35a9ba193d",
   "metadata": {},
   "outputs": [
    {
     "data": {
      "text/plain": [
       "['longitude',\n",
       " 'latitude',\n",
       " 'housing_median_age',\n",
       " 'total_rooms',\n",
       " 'total_bedrooms',\n",
       " 'population',\n",
       " 'households',\n",
       " 'median_income',\n",
       " 'median_house_value']"
      ]
     },
     "execution_count": 6,
     "metadata": {},
     "output_type": "execute_result"
    }
   ],
   "source": [
    "num_cols"
   ]
  },
  {
   "cell_type": "code",
   "execution_count": 7,
   "id": "47302ba1-bb9c-4bac-8347-85102723dd19",
   "metadata": {
    "scrolled": true
   },
   "outputs": [
    {
     "data": {
      "text/plain": [
       "['ocean_proximity']"
      ]
     },
     "execution_count": 7,
     "metadata": {},
     "output_type": "execute_result"
    }
   ],
   "source": [
    "cat_cols"
   ]
  },
  {
   "cell_type": "markdown",
   "id": "a183219f-5327-4fea-af24-4057350ecfe1",
   "metadata": {},
   "source": [
    "## Preparation of the Data:\n",
    "**Encoding:**\n",
    "* In order to feed categorical columns into the model, we need to convert them into numeric form. For this purpose, we will use OneHotEncoder. There is a significant difference in the usage of OneHotEncoder between PySpark and Scikit-learn. In Scikit-learn, OneHotEncoder takes Object type as input, while in PySpark, it requires numeric type. Therefore, to use OneHotEncoder, we first convert categorical columns to numeric type using StringIndexer, and then apply encoding with OneHotEncoder. Since our dataset has only one categorical column, we can do this in a single step in the pipeline. However, if there are multiple categorical columns, we cannot do it in a single step. For the sake of this project, we will assume as if there are multiple categorical columns in our dataset and adjust the 'stages' parameter of our pipeline accordingly.\n",
    "\n",
    "**Vector Assembler:**\n",
    "* we will combine them using vector assembler, since both numerical and categorical columns have numeric types. In PySpark, it is necessary to provide all features as a single column both when applying scaling and training the model.\n",
    "\n",
    "**Scaling:**\n",
    "* If we take a quick look at our dataset beforehand, we can observe that it contains negative values, values that do not follow a normal distribution, and outliers. Therefore, to address both negative values, non-normal distribution, and problems caused by outliers, we will use RobustScaler().\n",
    "\n",
    "**Note:** In this project, since we will use Linear Regression, the model assumes that the variables (data) follow a normal distribution. Another reason we want to use RobustScaler() is for this purpose."
   ]
  },
  {
   "cell_type": "code",
   "execution_count": 8,
   "id": "df48db50-5856-4ec5-b144-58645406a0a7",
   "metadata": {},
   "outputs": [],
   "source": [
    "from pyspark.ml import Pipeline\n",
    "from pyspark.ml.feature import VectorAssembler, OneHotEncoder, StringIndexer, RobustScaler\n",
    "\n",
    "stages = []\n",
    "for col in cat_cols:\n",
    "    indexer = StringIndexer(inputCol=col, outputCol=col+\"_index\")\n",
    "    encoder = OneHotEncoder(inputCols=[indexer.getOutputCol()], outputCols=[col + \"_encoded\"])\n",
    "\n",
    "stages += [indexer, encoder]\n",
    "\n",
    "assemblerInputs = [i + \"_encoded\" for i in cat_cols] + num_cols\n",
    "vectorAssembler = VectorAssembler(inputCols=assemblerInputs, outputCol=\"features\", handleInvalid=\"skip\")\n",
    "stages += [vectorAssembler]\n",
    "\n",
    "robustScaler = RobustScaler(inputCol=vectorAssembler.getOutputCol(), outputCol=\"scaled_features\")\n",
    "stages += [robustScaler]"
   ]
  },
  {
   "cell_type": "markdown",
   "id": "25314120-bd09-4bcd-af2d-88f945eb6e84",
   "metadata": {},
   "source": [
    "### Usage Pipeline and Linear Regression Model:\n",
    "**Step by Step:**\n",
    "\n",
    "**1.** We split our dataframe before applying any operations.\n",
    "\n",
    "**2.** Before providing our training data to the Linear Regression model, we fit the pipeline to instruct it on how to apply the data preprocessing steps by first providing our training data to the pipeline.\n",
    "\n",
    "**3.** We ensure that the data preprocessing steps are applied to both our train and test data by applying the transform() method to both.\n",
    "\n",
    "**4.** Finally, we provide the transformed train data to our regression model, allowing the model to learn what the average value of a house might be using the training data."
   ]
  },
  {
   "cell_type": "code",
   "execution_count": 9,
   "id": "be5c01e9-da72-457e-9d7f-cf78e8978efd",
   "metadata": {},
   "outputs": [],
   "source": [
    "from pyspark.ml.regression import LinearRegression\n",
    "# 1\n",
    "(train_data, test_data) = df.randomSplit([0.8, 0.2], seed=42)\n",
    "\n",
    "# 2\n",
    "pipeline = Pipeline(stages=stages)\n",
    "pipeline_transformer = pipeline.fit(train_data)\n",
    "\n",
    "# 3\n",
    "valid_train = pipeline_transformer.transform(train_data)\n",
    "valid_test = pipeline_transformer.transform(test_data)\n",
    "\n",
    "# 4\n",
    "MLR = LinearRegression(featuresCol=\"scaled_features\", labelCol=\"median_house_value\")\n",
    "model = MLR.fit(valid_train)"
   ]
  },
  {
   "cell_type": "markdown",
   "id": "d61ec537-2585-423f-b43d-092c4ddf7cb1",
   "metadata": {},
   "source": [
    "## Evaluating Model:\n",
    "We enable our trained model to predict the value of a house using the transformed test data. To achieve this, we utilize the evaluate() method of our regression model."
   ]
  },
  {
   "cell_type": "code",
   "execution_count": 10,
   "id": "38a7853f-e3e5-43bb-bd9c-1972b56027d5",
   "metadata": {},
   "outputs": [],
   "source": [
    "pred = model.evaluate(valid_test)"
   ]
  },
  {
   "cell_type": "markdown",
   "id": "0f2a9c4e-4eb7-4bf0-9f61-c176851cf6aa",
   "metadata": {},
   "source": [
    "As a result of the above process, our pred dataframe will be created. This method essentially writes the predictions onto a column and then concatenates the transformed test data along with this column with axis=0."
   ]
  },
  {
   "cell_type": "code",
   "execution_count": 11,
   "id": "e6e003d9-d249-41d8-8635-685be5a38ad9",
   "metadata": {},
   "outputs": [
    {
     "data": {
      "text/plain": [
       "['longitude',\n",
       " 'latitude',\n",
       " 'housing_median_age',\n",
       " 'total_rooms',\n",
       " 'total_bedrooms',\n",
       " 'population',\n",
       " 'households',\n",
       " 'median_income',\n",
       " 'median_house_value',\n",
       " 'ocean_proximity',\n",
       " 'ocean_proximity_index',\n",
       " 'ocean_proximity_encoded',\n",
       " 'features',\n",
       " 'scaled_features',\n",
       " 'prediction']"
      ]
     },
     "execution_count": 11,
     "metadata": {},
     "output_type": "execute_result"
    }
   ],
   "source": [
    "pred.predictions.columns"
   ]
  },
  {
   "cell_type": "code",
   "execution_count": 12,
   "id": "91de1a66-644e-4029-a1ad-dd12dda0c754",
   "metadata": {},
   "outputs": [
    {
     "name": "stdout",
     "output_type": "stream",
     "text": [
      "+------------------+--------+\n",
      "|        prediction|   Label|\n",
      "+------------------+--------+\n",
      "|103599.83321697106|103600.0|\n",
      "|106699.64996373218|106700.0|\n",
      "| 73200.00838571694| 73200.0|\n",
      "| 90099.76027538384| 90100.0|\n",
      "| 66999.88121587796| 67000.0|\n",
      "| 86399.91525723398| 86400.0|\n",
      "| 70499.74951122406| 70500.0|\n",
      "| 85099.85086416012| 85100.0|\n",
      "| 80499.76010891488| 80500.0|\n",
      "| 95999.95616676859| 96000.0|\n",
      "| 75499.90413798466| 75500.0|\n",
      "|  74999.8164167832| 75000.0|\n",
      "|100599.82704075653|100600.0|\n",
      "| 74099.77088612516| 74100.0|\n",
      "| 66800.17745011438| 66800.0|\n",
      "|  72599.8204911168| 72600.0|\n",
      "| 81099.87053756721| 81100.0|\n",
      "|135600.44942403585|135600.0|\n",
      "|119400.15109463451|119400.0|\n",
      "| 71299.93981479376| 71300.0|\n",
      "+------------------+--------+\n",
      "only showing top 20 rows\n",
      "\n"
     ]
    }
   ],
   "source": [
    "final_df = pred.predictions.select(\"prediction\", \"median_house_value\").withColumnRenamed(\"median_house_value\", \"Label\")\n",
    "\n",
    "final_df.show()"
   ]
  },
  {
   "cell_type": "markdown",
   "id": "e008b0eb-8e64-4e43-81f3-41158fbfd33c",
   "metadata": {},
   "source": [
    "---"
   ]
  },
  {
   "cell_type": "markdown",
   "id": "f4b93eee-b65c-4c96-81d2-d784ccb6b339",
   "metadata": {},
   "source": [
    "### Evaluate Coefficient:\n",
    "In regression models, coefficients are calculated to determine the effect of independent variables on the model. These coefficients indicate how much the predicted value of the dependent variable (target) changes when the values of the independent variables (features) change."
   ]
  },
  {
   "cell_type": "code",
   "execution_count": 13,
   "id": "ed6a0c65-cbe4-48b0-be1d-f92c843b93bd",
   "metadata": {
    "scrolled": true
   },
   "outputs": [
    {
     "name": "stdout",
     "output_type": "stream",
     "text": [
      "Coefficient: [-0.013065519103106568,0.14395153924998325,0.0,0.0,-0.9889349750447308,-0.9453620637886726,-0.24297448193678578,0.0718442531150927,0.3687449454560945,-0.2518773487682104,-0.2609487902765698,-0.28852103862244205,144000.20419900282]\n"
     ]
    }
   ],
   "source": [
    "coef = model.coefficients\n",
    "\n",
    "print(f\"Coefficient: {coef}\")"
   ]
  },
  {
   "cell_type": "markdown",
   "id": "9a02ab9c-c9f5-4f42-b77d-2627b3a623b2",
   "metadata": {},
   "source": [
    "---"
   ]
  },
  {
   "cell_type": "markdown",
   "id": "03ef9214-4870-4772-86ab-66f26b557a9b",
   "metadata": {},
   "source": [
    "### Evaluate Intercept:\n",
    "The intercept indicates how much the regression curve shifts along the y-axis (dependent variable). It shows where the dependent variable starts when the effect of other independent variables is constant. \n",
    "\n",
    "**For example,** \n",
    "\n",
    "In a linear regression model, it shows where the curve intersects the y-axis.\n",
    "\n",
    "* A positive intercept means the curve shifts upward along the y-axis.\n",
    "* A negative intercept shifts the curve downward.\n",
    "\n",
    "This value plays a significant role in interpreting the model's predictions and understanding the results."
   ]
  },
  {
   "cell_type": "code",
   "execution_count": 14,
   "id": "d8c1bf3b-0d88-456c-a576-e5e4510b9b68",
   "metadata": {},
   "outputs": [
    {
     "name": "stdout",
     "output_type": "stream",
     "text": [
      "Intercept: -21.578460875839042\n"
     ]
    }
   ],
   "source": [
    "intercept = model.intercept\n",
    "\n",
    "print(f\"Intercept: {intercept}\")"
   ]
  },
  {
   "cell_type": "markdown",
   "id": "45f374a5-2756-462b-8a60-84fba3e21a76",
   "metadata": {},
   "source": [
    "---"
   ]
  },
  {
   "cell_type": "markdown",
   "id": "157a9a1a-ea78-4fcb-b868-9c241b01e59e",
   "metadata": {},
   "source": [
    "### Visualizing Model Results:\n",
    "We can visualize the results of our model using the pyplot interface within matplotlib."
   ]
  },
  {
   "cell_type": "code",
   "execution_count": 15,
   "id": "4fe7758a-6e46-4aca-92a0-6690da6def37",
   "metadata": {},
   "outputs": [
    {
     "data": {
      "text/plain": [
       "<Axes: xlabel='Label', ylabel='prediction'>"
      ]
     },
     "execution_count": 15,
     "metadata": {},
     "output_type": "execute_result"
    },
    {
     "data": {
      "image/png": "[encoded data removed]",
      "text/plain": [
       "<Figure size 640x480 with 1 Axes>"
      ]
     },
     "metadata": {},
     "output_type": "display_data"
    }
   ],
   "source": [
    "import seaborn as sns\n",
    "import matplotlib.pyplot as plt\n",
    "\n",
    "final_pd_df = final_df.toPandas()\n",
    "final_pd_df.plot.scatter(x=\"Label\", y=\"prediction\", alpha=0.5)"
   ]
  },
  {
   "cell_type": "markdown",
   "id": "49c6c457-0d33-4cea-a881-d7e7fc23cad8",
   "metadata": {},
   "source": [
    "---"
   ]
  },
  {
   "cell_type": "markdown",
   "id": "79b27379-e335-4ea1-93e4-8d901105f0a0",
   "metadata": {},
   "source": [
    "### Evaluate Root Mean Square Error (RMSE) and R-squared (R^2):\n",
    "**Root Mean Square Error**:\n",
    "\n",
    "We use it to measure the variance between predictions and actual values. This RMSE value shows us the average number of values between the predicted house values and the actual house values.\n",
    "\n",
    "**R-squared:**\n",
    "\n",
    "It is a statistical measure we use to evaluate the performance of the model in regression analysis. This statistical method allows us to compare different regression models. In fact, this value indicates how strong our regression model is. It has a value between 0 and 1, and the closer this value is to 1, the better our chosen regression model performs.\n",
    "\n",
    "\n",
    "**Note:** We use the RegressionEvaluator class to perform these statistical operations."
   ]
  },
  {
   "cell_type": "code",
   "execution_count": 16,
   "id": "43d4fcd5-9183-4f2b-a06f-f8066fa3efb8",
   "metadata": {},
   "outputs": [],
   "source": [
    "from pyspark.ml.evaluation import RegressionEvaluator\n",
    "# median_house_value == Label\n",
    "evaluation = RegressionEvaluator(labelCol=\"median_house_value\", predictionCol=\"prediction\")\n",
    "\n",
    "R2 = evaluation.evaluate(pred.predictions, {evaluation.metricName: \"r2\"})\n",
    "rmse = evaluation.evaluate(pred.predictions, {evaluation.metricName: \"rmse\"})"
   ]
  },
  {
   "cell_type": "code",
   "execution_count": 17,
   "id": "eb337b8e-70b7-4408-806c-e19875e7bac6",
   "metadata": {},
   "outputs": [
    {
     "name": "stdout",
     "output_type": "stream",
     "text": [
      "Root Mean Square Error (RMSE): 0.32958769845947433\n"
     ]
    }
   ],
   "source": [
    "print(f\"Root Mean Square Error (RMSE): {rmse}\")"
   ]
  },
  {
   "cell_type": "code",
   "execution_count": 18,
   "id": "ab1e976a-0817-4fba-9ceb-8102b1003eb0",
   "metadata": {},
   "outputs": [
    {
     "name": "stdout",
     "output_type": "stream",
     "text": [
      "r2: 0.9999999999921274\n"
     ]
    }
   ],
   "source": [
    "print(f\"r2: {R2}\")"
   ]
  }
 ],
 "metadata": {
  "kernelspec": {
   "display_name": "Python 3 (ipykernel)",
   "language": "python",
   "name": "python3"
  },
  "language_info": {
   "codemirror_mode": {
    "name": "ipython",
    "version": 3
   },
   "file_extension": ".py",
   "mimetype": "text/x-python",
   "name": "python",
   "nbconvert_exporter": "python",
   "pygments_lexer": "ipython3",
   "version": "3.11.8"
  }
 },
 "nbformat": 4,
 "nbformat_minor": 5
}
